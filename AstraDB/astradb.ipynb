{
 "cells": [
  {
   "cell_type": "code",
   "execution_count": 1,
   "id": "92049caf",
   "metadata": {},
   "outputs": [
    {
     "name": "stderr",
     "output_type": "stream",
     "text": [
      "c:\\Users\\PC\\Documents\\Projects\\Agentic AI\\AstraDB\\astra-env\\Lib\\site-packages\\tqdm\\auto.py:21: TqdmWarning: IProgress not found. Please update jupyter and ipywidgets. See https://ipywidgets.readthedocs.io/en/stable/user_install.html\n",
      "  from .autonotebook import tqdm as notebook_tqdm\n"
     ]
    }
   ],
   "source": [
    "from langchain.vectorstores.cassandra import Cassandra\n",
    "from langchain.indexes.vectorstore import VectorStoreIndexWrapper\n",
    "from langchain_groq import ChatGroq\n",
    "from langchain_huggingface import HuggingFaceEmbeddings\n",
    "\n",
    "from datasets import load_dataset\n",
    "import os\n",
    "from dotenv import load_dotenv\n",
    "#import cassio"
   ]
  },
  {
   "cell_type": "code",
   "execution_count": 2,
   "id": "8e050531",
   "metadata": {},
   "outputs": [],
   "source": [
    "from PyPDF2 import PdfReader"
   ]
  },
  {
   "cell_type": "code",
   "execution_count": 3,
   "id": "e5dc1e0d",
   "metadata": {},
   "outputs": [],
   "source": [
    "load_dotenv()\n",
    "ASTRA_DB_APPLICATION_TOKEN=os.getenv(\"ASTRA_DB_APPLICATION_TOKEN\")\n",
    "ASTRA_DB_ID=os.getenv(\"ASTRA_DB_ID\")\n",
    "groq_api_key=os.getenv(\"GROQ_API_KEY\")\n",
    "hf_token=os.getenv('HF_TOKEN')"
   ]
  },
  {
   "cell_type": "code",
   "execution_count": 5,
   "id": "5100e874",
   "metadata": {},
   "outputs": [],
   "source": [
    "pdf=PdfReader(\"IKSpeech.pdf\")"
   ]
  },
  {
   "cell_type": "code",
   "execution_count": 6,
   "id": "309beba5",
   "metadata": {},
   "outputs": [],
   "source": [
    "from typing_extensions import Concatenate\n",
    "# read text from pdf\n",
    "raw_text = ''\n",
    "for i, page in enumerate(pdf.pages):\n",
    "    content = page.extract_text()\n",
    "    if content:\n",
    "        raw_text += content"
   ]
  },
  {
   "cell_type": "code",
   "execution_count": 7,
   "id": "0e0db08f",
   "metadata": {},
   "outputs": [
    {
     "data": {
      "text/plain": [
       "\"1 \\n Statement by the Prime Min ister of Pakistan H.E. Imran Khan to the \\nSeventy -sixth Session of the UN General Assembly  \\n24 September 2021  \\n \\n بِسْمِ هللاِ الرَّحْمٰنِ الرَّحِيْمِ \\n \\nنَسْتَعِين   وَإِيَّاكَ  نَعْب د   إِيَّاكَ  \\n \\nMr. President , \\n \\nI congratulate you on ass uming the presiden cy of the 76th session of the General \\nAssembly.  \\n \\nI also wish to express appreciation for the significant achievements of your \\npredecessor, Volkan Bozkir, who guided the Assembly skilfully under the \\ndifficult circumstances impo sed by the Covid-19 pandemic.  \\n \\nMr. President , \\n \\nThe world is facing triple challenge  of the Covid -19, the accompanying \\neconomic crisis, and the threats posed by climate change.  \\n \\nThe virus does not discriminate between nations and people. Nor do the \\ncatastrophes impos ed by uncertain we ather patterns.  \\n \\nThe common threats faced by us today not  only expose the fragility of the \\ninternational system; they also underscore the oneness of humanity.  \\n \\nBy the grace of Almighty  Allah , Pakistan has been successful so far in \\nconta ining the Covid pa ndemic. Our calibrated strategy of ‘smart lockdowns’ \\nhelpe d save lives and livelihoods and kept the economy afloat. Over 15 million \\nfamilies survived through our social protection programme of Ehsaas .  \\n \\nMr. President , \\n 2 \\n Climate change is o ne of the primary existential threats that our planet faces \\ntoday.  \\n \\nPakistan’s contribution to global emissions is negligible . Yet we are among the \\n10 most vulnerable countries to the effects of climate change  in the world .  \\n \\nBeing fully aware of our globa l responsibilities , we have embarked upon game -\\nchanging environmental programmes : reforesting Pakistan through our 10 \\nbillion tree tsunami; preserving natural habitats; switching to renewable energy; \\nremoving pollution from our cities; and adapting to the impacts of climate  \\nchange.  \\n \\nTo address the triple crisis of covid pandemic, economic downturn, and  climate \\nemergency, we need a comprehensive strategy that should include:  \\n \\nOne, vaccine equity: everyone, everywhere, must be vaccinated against \\nCovid, and as  soon as possible;  \\n \\nTwo, adequate financing must be made available to developing countries. \\nThis can b e ensured through comprehensive debt restructuring; expanded \\nODA ; redistribution of unutilized SDR s, and allotment of a greater \\nproportion of SDR s to deve loping countries; and finally , provision of \\nclimate finance; and  \\n \\nThree , we must adopt clear investment s trategies which help alleviate \\npoverty, promote job creation, build sustainable infrastructure, and of \\ncourse bridge the digital divide.  \\n \\nI propose th at the Secretary -General convene an SDG summit in 2025 to review \\nand accelerate implementation of Sustainable Development Goals (SDGs) .  \\n \\nMr. President , \\n \\nBecause of the plunder of the developing world by their corrupt ruling elites, the \\ngap between the ric h and the poor cou ntries is increasing at an alarming speed.  \\n 3 \\n Through this platform, I have been drawing the world’s att ention towards the \\nscourge of illicit financial flows from developing countries.  \\n \\nThe Secretary General ’s High -Level Panel on Financia l Accountability , \\nTransparency and Integrity (FACTI ) has calculated that a staggering 7 trillion \\ndollars in stolen assets a re parked in the financial “haven” destinations.  \\n \\nThis organized theft and illegal transfer of assets has profound consequences for \\nthe developing nat ions. It depletes their already meagre resources, accentuates \\nthe levels of poverty especially when launder ed money puts pressure on the \\ncurrency and leads to its devaluation. At the current rate, when the FACTI Panel \\nestimates that a tri llion dollar every  year is taken out of the developing world, \\nthere will be mass exodus of economic migrants towards the richer n ations.  \\n \\nWhat the East India Company did to India , the crooked ruling elites are doing to \\ndeveloping world  - plundering the we alth and transferr ing to western capitals \\nand offshore tax havens.  \\n \\nAnd Mr. President , retrieving the stolen assets from the developed  countries is \\nimpossible for poor nations. The rich countries have no incentives, or \\ncompulsion, to return this ill -gotte n wealth, and this  ill-gotten wealth belongs to \\nthe masses of the developing  world . I foresee , in the  not-too-distant  future a \\ntime will come when the rich countries will be forced to build walls to keep out \\neconomic migrants from these poor countries.   \\n \\nI fear a few “weal thy islands” in the sea of poverty will also turn into a global \\ncalamity, like climate change.  \\n \\nThe General Assembly must take steps meaningfully to address this deeply \\ndisturbing, and morally repugnant, situation. Naming and shaming the ‘haven’ \\ndestinatio ns and developing a comprehensive legal framework to halt and \\nreverse the illicit financial flows are most criti cal actions to stop this grave \\neconomic injustice.  \\n \\nAnd at a minimum, the recommendations of Secretary General's FACTI panel \\nshould be fully imp lemented.  \\n 4 \\n Mr. President , \\n \\nIslamophobia is another pernicious phenomen on that we all need to collectively \\ncombat.  \\n  \\nIn the aftermath of 9/11 terrorist attacks, terrorism has been associated with \\nIslam by some qua rters. This has increased  the tendency of r ight-wing, \\nxenophobic and violent nationalist s, extremist s and terrorist groups to target \\nMuslims .  \\n \\nThe UN Global Counter Terrorism Strategy has recognized these emerging \\nthreats. We hope the Secretary -General’s report will focus on thes e new threats \\nof terrorism posed by Islamophobes and right -wing extremists.  \\n \\nI call on the Secretary -General to convene a global dialogue on coun tering the \\nrise of Islamophobia . Our parallel efforts, at the same time , should be to \\npromote interfaith harmo ny, and they shoul d continue.  \\n \\nMr. President , \\n \\nThe worst and most pervasive form of Islamophobia now rules India . The hate-\\nfilled ‘Hindutva’  ideology,  propagated by the fascist RSS-BJP regime, has \\nunleashed a reign of fear and violence against India’s 200 million  strong \\nMuslim community . Mob lynching by cow vigilantes; frequent pogroms, such \\nas the one in New Delhi last year; discriminatory citizenship l aws to purge India \\nof Muslims ; and a campaign to destroy mosques across India and obliterate its \\nMuslim heritage and histo ry, are all part of this criminal enterprise.  \\n \\nNew Delhi has also embarked on what it ominously calls the “final solution” for \\nthe Jammu and Kashmir dispute. It has undertaken:  \\n \\n- a series of illegal and unilateral measures in Occupied J ammu and \\nKashmir since 5 th August 2019;  \\n- it has unleashed a reign of terror by an occupation force of 900,000;  \\n- it has jailed senior Kashmiri leadership;  \\n- imposed a clampdown on  media and internet;  \\n- violently suppressed peaceful protests;  5 \\n - abduct ed 13,000 young Kashmiris and tortured hundreds of them;  \\n- it has extra -judicially killed hundreds of innocent Kashmiris in fake \\n“encounters”; and  \\n- imposed col lective punishments by destroying entire neighbourhoods \\nand villages.  \\n \\nWe have unveiled a det ailed dossier on g ross and systematic violations of \\nhuman rights by the Indian Security Forces in Occupied Jammu and Kashmir .\\n  \\n \\nThis repression is accompanied by ille gal efforts to change the demographic \\nstructure of the occupied territory, and transform i t from a Muslim  majority into \\na Muslim minority.  \\n \\nIndian actions violate the resolutions of the UN Security Council on Jammu and \\nKashmir . The resolutions clearly prescri be that the “final disposition” of the \\ndisputed territory should be decided by its peo ple, through a fre e and impartial \\nplebiscite held under the UN auspices.  \\n \\nIndia’s actions in Occupied Jammu and Kashmir also violate International \\nHuman Rights and Humanitarian Laws , including the 4th Geneva Convention , \\nand amount to “war crimes” and “cri mes against humani ty.”  \\n \\nIt is unfortunate, very unfortunate , that the world’s approach to violations of \\nhuman rights lacks even -handedness, and even is selective. Geopolitica l \\nconsiderations, or corporate interests, commercial interests often compel major  \\npowers to overloo k the transgressions of their “affiliated” countries.  \\n \\nSuch double standards are the most glaring in case of India , where this RSS-BJP \\nregime is being allowed  to get away with human rights abuses with complete \\nimpunity.  \\n \\nThe most recent  example of Indian  barbarity was the forcible snatching of the \\nmortal remains of the great Kashmiri leader, Syed Ali Shah Geelani , from his \\nfamily, denying him a proper Islamic fu neral and burial , in accordance with his \\nwishes and Muslim traditions.  \\n 6 \\n Devo id of any legal or  moral sanction, this action was even against the basic \\nnorms of human decency. I call on this General Assembly to demand that Syed \\nGeelani’s mortal remains be allo wed to be buried in the “cemetery of martyrs” \\nwith the appropriate Islamic  rites.  \\n \\nMr. Presi dent , \\n \\nPakistan desires peace with India , as with all its neighbours. But sustainable \\npeace in South Asia  is contingent upon resolution of the Jammu and Kashmir \\ndispute , in accordance with the relevant United Nations  Security Council \\nresolutions , and the w ishes of the Kashmiri people.  \\n \\nLast February , we reaffirmed the 2003 ceasefire understanding along the Line \\nof Control . The hope was that it would lead to a rethink of the strategy i n New \\nDelhi . Sadly , the BJP government has intensified repression in Kash mir and \\ncontinues to vitiate the environment by the se barbaric acts.  \\n \\nThe onus remains on India to create a conducive environment for meaningful \\nand result -oriented engagement with Pakistan . And for that, it must do:  \\n \\nOne, reverse its un ilateral and illeg al measures instituted since 5 th \\nAugust 2019;  \\nTwo, stop its oppression and human rights violations against the \\npeople of Kashmi r; and  \\nThree , halt and reverse the demographic changes in the occupi ed \\nterritory.  \\n \\nIt is also essential to prev ent another confli ct between Pakistan and India . \\nIndia’s military build -up, development of advanced nuclear weapons, and \\nacquisition of destabilising conventional capabilities, can erode mutual \\ndeterrence between th e two countr ies. \\n \\nAnd now Mr. President , I want to talk abo ut Afghanistan. For t he current \\nsitua tion in Afghanistan , for some reason, Pakistan has  been blamed for the turn \\nof events, by politicians  in the United States and some politicians  in Europe.  \\n 7 \\n From this pla tform, I want them all to know,  the country that suffered the most, \\napart from Afghanistan, was Pakistan, wh en we joined the US War on Terror \\nafter 9/11.  \\n \\n80,000 Pakistani s died. $150 billion dollars were lost to our economy. There \\nwere 3.5 million internal ly displaced Pakistanis . And why did this happe n? In \\nthe 1980s, Pakistan was a front -line state in fighting against  the occupation of \\nAfghan istan . Pakistan and the United States trained Mujahideen groups to fight \\nfor the liberation of Afghanistan . Amon gst those Mujahideen groups was Al-\\nQaeda , various g roups from all over the world. There were Mujahideen , Afghan \\nMujahideen . These were considered hero es.  \\n \\nPresident  Ronald Regan invited them to the White House in 1983. And \\naccording to a news item , he compared them to the  founding father s of the \\nUnited St ates. They were  heroes.  \\n \\nCome 1989, the Soviets  leave, and so d o the Americans  - abandon ing \\nAfghanistan . Pakistan was left with 5 million Afghan refugees. We were left \\nwith sectarian militant groups which were never existed befo re. But the wors e \\ncut of it was, that a year later Pakistan was sanctioned  by the US. We felt used.  \\n \\nFast forward 9/11, Pakistan  is needed again by the US, because now the US-led \\ncoalition was invading Afghanistan, and it could not happen  without  Pakistan \\nprovidin g all the logistic al support.  \\n \\nWhat happened after that?  \\n \\nThe same Mujahideen that we had trained, that fighting  foreign occupation was \\na sacred duty, a holy war or jehad , turned ag ainst us.  \\n \\nWe were c alled collaborators.  \\n \\nThey declared jehad on us. Then all along the tribal belt  bordering Afghanistan  - \\nPakistan’s semi -autonomous tribal belt  - where n o Pakistan army had been there \\nsince our independence , people  had strong sympat hies with the Afghan Taliban , \\nnot because of their religious ideology but be cause of Pashtun nationalism, \\nwhich is very strong. Then there are three million Afghan refuge es still in 8 \\n Pakistan all Pashtoons , living in the camps. 500,000 in the biggest ca mp, \\n100,000 ca mps. They all had affinity and sympath y with the Afghan Taliban .  \\n \\nSo, what happened ? They too turn ed against Pakistan. For the f irst time we had \\nmilitant Taliban in Pakistan . And they too attack ed the G overnment  of Pakistan . \\nWhen our A rmy went in to the tribal areas  first time in our history  - whenever an \\narmy goes into the civilian areas , there is collateral damage  - so, there was \\ncollateral damage, which multiplied the militants to seek revenge. But not just \\nthat. The world must know that in Pakist an there were 480 d rone attacks \\nconducted by the US. And we all know that  the drone attacks  are not that \\npreci se. They cause  more collateral damage than the militants they are targeting.  \\n \\nSo, people whose  relatives  had been killed  sought  revenge against Pakistan . \\nBetween 2004 and 2014, there were 50 different militant groups a ttacking the \\nState of Pakistan . \\n \\nAt one point, people , people like us were worried, that will we survive this? \\nThere were bombs go ing all over Pakistan . Our capital was like a fortress.  \\n \\nHad it not been  for one of the most disciplined  army in the world an d one of the \\nbest intelligence agen cies in the world, I think Pakistan would have gone do wn.  \\n \\nSo, when we h ear this at the end . There is a lot of worr y in the US about taking \\ncare of the interpreters and everyone who helped  the US.  \\n \\nWhat about us?   \\n \\nThe only reason we suf fered so m uch was because we became an ally of the US \\n- of the Coalition  - in the war in Afghanistan. There were attacks being \\nconducted from the Afgha n soil into Pak istan. At least there should have been a \\nword of appreciation. But rather than appreciatio n, ima gine how we feel when \\nwe are blame d for the turn of events in Afg hanista n.  \\n \\nAfter 2006 , it became clear to everyone who understood Afghanistan  and its \\nhistory that there would be no military solution in A fghanistan. I went to the \\nUS, I spoke to thinktanks , I met the then Senator Bide n, Senator John Kerry, \\nSenator Harry Reid  – I tried to explain to them that there w ould not be any 9 \\n military sol ution , and political settlement was  the way forward . No one \\nunderstood then .  \\n \\nAnd unfortuna tely, in trying to  force  a military solution is where the US went \\nwron g. And if today , the world needs to kn ow why the Taliban are back in \\npower, all it has to do is to do a deep analys is of why a 300,000 strong well \\nequipped Afghan army – and remember Afg hans are one of th e bravest nations \\non earth - gave up without a fight.  \\n \\nThe moment a deep a nalysis of this is done, the world would  know  why the \\nTaliban came back to p ower and it is not because of P akistan. \\n \\nMr. President,  \\n \\nNow the whole international co mmunity should thi nk what is the way ahead.  \\nThere are two paths that we can take . If we neglect Afg hanistan right now , \\naccording to the UN  half the people of Afghanistan  are already vulnerable , and \\nby next year almost 90% of the people in Afghanistan will go below the pover ty \\nline. There is a huge  humanitarian crisis looming ahead. And this will have \\nserious repercussions  not just for the neigh bours  of Afghanistan  but \\neveryw here. A destabilized , chaotic Afghanistan  will again become a safe haven \\nfor interna tional  terrorists  - the reason why the US came to A fghanistan in the \\nfirst place.  \\n \\nTherefore, there is only one way to go. We must strengthen and stabilize  the \\ncurrent government , for the sake of the people of Af ghanistan .  \\n \\nWhat have t he Taliban promised ?  \\nThey will respe ct human rights .  \\nThey will have an inclusive government.  \\nThey will not allow th eir soil to be used by terrorist . \\nAnd they have given amnesty . \\n \\nIf the world community incentivises  them , and encourages them to walk this \\ntalk, it will be a  win-win situatio n for everyone. Because  these are the four \\nconditions that the US-Taliban dialogue  in Doha was all about .  \\n 10 \\n If the world can incentivise  them to go this direction, then this twent y-year \\npresence of the coalition forces in Afghanistan would  not be wasted after all . \\nBecause the Afghan soil  would not be used by the international terrorists .  \\n \\nI end Mr. President , by urging everyone that this is a critical time  for \\nAfghanistan . \\n \\nYou cannot waste time . Help is needed there. Humanitarian assistan ce has to be  \\ngiven  there  immediately. The Secretary General of the U nited Nations  has taken \\nbold steps . I urge you to mobilize  the international community , and m ove in this \\ndirection .  \\n \\nThank you.  \""
      ]
     },
     "execution_count": 7,
     "metadata": {},
     "output_type": "execute_result"
    }
   ],
   "source": [
    "raw_text"
   ]
  },
  {
   "cell_type": "code",
   "execution_count": 8,
   "id": "d1ba419b",
   "metadata": {},
   "outputs": [],
   "source": [
    "import cassio\n",
    "cassio.init(token=ASTRA_DB_APPLICATION_TOKEN, database_id=ASTRA_DB_ID)"
   ]
  },
  {
   "cell_type": "code",
   "execution_count": 14,
   "id": "2dd61d44",
   "metadata": {},
   "outputs": [],
   "source": [
    "llm=ChatGroq(model=\"llama-3.1-8b-instant\",groq_api_key=groq_api_key)\n",
    "embedding=HuggingFaceEmbeddings()"
   ]
  },
  {
   "cell_type": "code",
   "execution_count": 11,
   "id": "6fefeb67",
   "metadata": {},
   "outputs": [
    {
     "data": {
      "text/plain": [
       "'Hello. Is there something I can help you with or would you like to chat?'"
      ]
     },
     "execution_count": 11,
     "metadata": {},
     "output_type": "execute_result"
    }
   ],
   "source": [
    "llm.invoke('hello').content"
   ]
  },
  {
   "cell_type": "code",
   "execution_count": 16,
   "id": "c1f95523",
   "metadata": {},
   "outputs": [],
   "source": [
    "astra_vector_store=Cassandra(\n",
    "    embedding=embedding,\n",
    "    table_name=\"pdf_query_db\",\n",
    "    session=None,\n",
    "    keyspace=None\n",
    ")"
   ]
  },
  {
   "cell_type": "code",
   "execution_count": 19,
   "id": "fac53e78",
   "metadata": {},
   "outputs": [],
   "source": [
    "from langchain.text_splitter import CharacterTextSplitter\n",
    "\n",
    "text_splitter=CharacterTextSplitter(\n",
    "    separator=\"/n\",\n",
    "    chunk_size=800,\n",
    "    chunk_overlap= 200,\n",
    "    length_function=len,\n",
    ")\n",
    "texts=text_splitter.split_text(raw_text)"
   ]
  },
  {
   "cell_type": "code",
   "execution_count": 20,
   "id": "f4f461a7",
   "metadata": {},
   "outputs": [
    {
     "data": {
      "text/plain": [
       "[\"1 \\n Statement by the Prime Min ister of Pakistan H.E. Imran Khan to the \\nSeventy -sixth Session of the UN General Assembly  \\n24 September 2021  \\n \\n بِسْمِ هللاِ الرَّحْمٰنِ الرَّحِيْمِ \\n \\nنَسْتَعِين   وَإِيَّاكَ  نَعْب د   إِيَّاكَ  \\n \\nMr. President , \\n \\nI congratulate you on ass uming the presiden cy of the 76th session of the General \\nAssembly.  \\n \\nI also wish to express appreciation for the significant achievements of your \\npredecessor, Volkan Bozkir, who guided the Assembly skilfully under the \\ndifficult circumstances impo sed by the Covid-19 pandemic.  \\n \\nMr. President , \\n \\nThe world is facing triple challenge  of the Covid -19, the accompanying \\neconomic crisis, and the threats posed by climate change.  \\n \\nThe virus does not discriminate between nations and people. Nor do the \\ncatastrophes impos ed by uncertain we ather patterns.  \\n \\nThe common threats faced by us today not  only expose the fragility of the \\ninternational system; they also underscore the oneness of humanity.  \\n \\nBy the grace of Almighty  Allah , Pakistan has been successful so far in \\nconta ining the Covid pa ndemic. Our calibrated strategy of ‘smart lockdowns’ \\nhelpe d save lives and livelihoods and kept the economy afloat. Over 15 million \\nfamilies survived through our social protection programme of Ehsaas .  \\n \\nMr. President , \\n 2 \\n Climate change is o ne of the primary existential threats that our planet faces \\ntoday.  \\n \\nPakistan’s contribution to global emissions is negligible . Yet we are among the \\n10 most vulnerable countries to the effects of climate change  in the world .  \\n \\nBeing fully aware of our globa l responsibilities , we have embarked upon game -\\nchanging environmental programmes : reforesting Pakistan through our 10 \\nbillion tree tsunami; preserving natural habitats; switching to renewable energy; \\nremoving pollution from our cities; and adapting to the impacts of climate  \\nchange.  \\n \\nTo address the triple crisis of covid pandemic, economic downturn, and  climate \\nemergency, we need a comprehensive strategy that should include:  \\n \\nOne, vaccine equity: everyone, everywhere, must be vaccinated against \\nCovid, and as  soon as possible;  \\n \\nTwo, adequate financing must be made available to developing countries. \\nThis can b e ensured through comprehensive debt restructuring; expanded \\nODA ; redistribution of unutilized SDR s, and allotment of a greater \\nproportion of SDR s to deve loping countries; and finally , provision of \\nclimate finance; and  \\n \\nThree , we must adopt clear investment s trategies which help alleviate \\npoverty, promote job creation, build sustainable infrastructure, and of \\ncourse bridge the digital divide.  \\n \\nI propose th at the Secretary -General convene an SDG summit in 2025 to review \\nand accelerate implementation of Sustainable Development Goals (SDGs) .  \\n \\nMr. President , \\n \\nBecause of the plunder of the developing world by their corrupt ruling elites, the \\ngap between the ric h and the poor cou ntries is increasing at an alarming speed.  \\n 3 \\n Through this platform, I have been drawing the world’s att ention towards the \\nscourge of illicit financial flows from developing countries.  \\n \\nThe Secretary General ’s High -Level Panel on Financia l Accountability , \\nTransparency and Integrity (FACTI ) has calculated that a staggering 7 trillion \\ndollars in stolen assets a re parked in the financial “haven” destinations.  \\n \\nThis organized theft and illegal transfer of assets has profound consequences for \\nthe developing nat ions. It depletes their already meagre resources, accentuates \\nthe levels of poverty especially when launder ed money puts pressure on the \\ncurrency and leads to its devaluation. At the current rate, when the FACTI Panel \\nestimates that a tri llion dollar every  year is taken out of the developing world, \\nthere will be mass exodus of economic migrants towards the richer n ations.  \\n \\nWhat the East India Company did to India , the crooked ruling elites are doing to \\ndeveloping world  - plundering the we alth and transferr ing to western capitals \\nand offshore tax havens.  \\n \\nAnd Mr. President , retrieving the stolen assets from the developed  countries is \\nimpossible for poor nations. The rich countries have no incentives, or \\ncompulsion, to return this ill -gotte n wealth, and this  ill-gotten wealth belongs to \\nthe masses of the developing  world . I foresee , in the  not-too-distant  future a \\ntime will come when the rich countries will be forced to build walls to keep out \\neconomic migrants from these poor countries.   \\n \\nI fear a few “weal thy islands” in the sea of poverty will also turn into a global \\ncalamity, like climate change.  \\n \\nThe General Assembly must take steps meaningfully to address this deeply \\ndisturbing, and morally repugnant, situation. Naming and shaming the ‘haven’ \\ndestinatio ns and developing a comprehensive legal framework to halt and \\nreverse the illicit financial flows are most criti cal actions to stop this grave \\neconomic injustice.  \\n \\nAnd at a minimum, the recommendations of Secretary General's FACTI panel \\nshould be fully imp lemented.  \\n 4 \\n Mr. President , \\n \\nIslamophobia is another pernicious phenomen on that we all need to collectively \\ncombat.  \\n  \\nIn the aftermath of 9/11 terrorist attacks, terrorism has been associated with \\nIslam by some qua rters. This has increased  the tendency of r ight-wing, \\nxenophobic and violent nationalist s, extremist s and terrorist groups to target \\nMuslims .  \\n \\nThe UN Global Counter Terrorism Strategy has recognized these emerging \\nthreats. We hope the Secretary -General’s report will focus on thes e new threats \\nof terrorism posed by Islamophobes and right -wing extremists.  \\n \\nI call on the Secretary -General to convene a global dialogue on coun tering the \\nrise of Islamophobia . Our parallel efforts, at the same time , should be to \\npromote interfaith harmo ny, and they shoul d continue.  \\n \\nMr. President , \\n \\nThe worst and most pervasive form of Islamophobia now rules India . The hate-\\nfilled ‘Hindutva’  ideology,  propagated by the fascist RSS-BJP regime, has \\nunleashed a reign of fear and violence against India’s 200 million  strong \\nMuslim community . Mob lynching by cow vigilantes; frequent pogroms, such \\nas the one in New Delhi last year; discriminatory citizenship l aws to purge India \\nof Muslims ; and a campaign to destroy mosques across India and obliterate its \\nMuslim heritage and histo ry, are all part of this criminal enterprise.  \\n \\nNew Delhi has also embarked on what it ominously calls the “final solution” for \\nthe Jammu and Kashmir dispute. It has undertaken:  \\n \\n- a series of illegal and unilateral measures in Occupied J ammu and \\nKashmir since 5 th August 2019;  \\n- it has unleashed a reign of terror by an occupation force of 900,000;  \\n- it has jailed senior Kashmiri leadership;  \\n- imposed a clampdown on  media and internet;  \\n- violently suppressed peaceful protests;  5 \\n - abduct ed 13,000 young Kashmiris and tortured hundreds of them;  \\n- it has extra -judicially killed hundreds of innocent Kashmiris in fake \\n“encounters”; and  \\n- imposed col lective punishments by destroying entire neighbourhoods \\nand villages.  \\n \\nWe have unveiled a det ailed dossier on g ross and systematic violations of \\nhuman rights by the Indian Security Forces in Occupied Jammu and Kashmir .\\n  \\n \\nThis repression is accompanied by ille gal efforts to change the demographic \\nstructure of the occupied territory, and transform i t from a Muslim  majority into \\na Muslim minority.  \\n \\nIndian actions violate the resolutions of the UN Security Council on Jammu and \\nKashmir . The resolutions clearly prescri be that the “final disposition” of the \\ndisputed territory should be decided by its peo ple, through a fre e and impartial \\nplebiscite held under the UN auspices.  \\n \\nIndia’s actions in Occupied Jammu and Kashmir also violate International \\nHuman Rights and Humanitarian Laws , including the 4th Geneva Convention , \\nand amount to “war crimes” and “cri mes against humani ty.”  \\n \\nIt is unfortunate, very unfortunate , that the world’s approach to violations of \\nhuman rights lacks even -handedness, and even is selective. Geopolitica l \\nconsiderations, or corporate interests, commercial interests often compel major  \\npowers to overloo k the transgressions of their “affiliated” countries.  \\n \\nSuch double standards are the most glaring in case of India , where this RSS-BJP \\nregime is being allowed  to get away with human rights abuses with complete \\nimpunity.  \\n \\nThe most recent  example of Indian  barbarity was the forcible snatching of the \\nmortal remains of the great Kashmiri leader, Syed Ali Shah Geelani , from his \\nfamily, denying him a proper Islamic fu neral and burial , in accordance with his \\nwishes and Muslim traditions.  \\n 6 \\n Devo id of any legal or  moral sanction, this action was even against the basic \\nnorms of human decency. I call on this General Assembly to demand that Syed \\nGeelani’s mortal remains be allo wed to be buried in the “cemetery of martyrs” \\nwith the appropriate Islamic  rites.  \\n \\nMr. Presi dent , \\n \\nPakistan desires peace with India , as with all its neighbours. But sustainable \\npeace in South Asia  is contingent upon resolution of the Jammu and Kashmir \\ndispute , in accordance with the relevant United Nations  Security Council \\nresolutions , and the w ishes of the Kashmiri people.  \\n \\nLast February , we reaffirmed the 2003 ceasefire understanding along the Line \\nof Control . The hope was that it would lead to a rethink of the strategy i n New \\nDelhi . Sadly , the BJP government has intensified repression in Kash mir and \\ncontinues to vitiate the environment by the se barbaric acts.  \\n \\nThe onus remains on India to create a conducive environment for meaningful \\nand result -oriented engagement with Pakistan . And for that, it must do:  \\n \\nOne, reverse its un ilateral and illeg al measures instituted since 5 th \\nAugust 2019;  \\nTwo, stop its oppression and human rights violations against the \\npeople of Kashmi r; and  \\nThree , halt and reverse the demographic changes in the occupi ed \\nterritory.  \\n \\nIt is also essential to prev ent another confli ct between Pakistan and India . \\nIndia’s military build -up, development of advanced nuclear weapons, and \\nacquisition of destabilising conventional capabilities, can erode mutual \\ndeterrence between th e two countr ies. \\n \\nAnd now Mr. President , I want to talk abo ut Afghanistan. For t he current \\nsitua tion in Afghanistan , for some reason, Pakistan has  been blamed for the turn \\nof events, by politicians  in the United States and some politicians  in Europe.  \\n 7 \\n From this pla tform, I want them all to know,  the country that suffered the most, \\napart from Afghanistan, was Pakistan, wh en we joined the US War on Terror \\nafter 9/11.  \\n \\n80,000 Pakistani s died. $150 billion dollars were lost to our economy. There \\nwere 3.5 million internal ly displaced Pakistanis . And why did this happe n? In \\nthe 1980s, Pakistan was a front -line state in fighting against  the occupation of \\nAfghan istan . Pakistan and the United States trained Mujahideen groups to fight \\nfor the liberation of Afghanistan . Amon gst those Mujahideen groups was Al-\\nQaeda , various g roups from all over the world. There were Mujahideen , Afghan \\nMujahideen . These were considered hero es.  \\n \\nPresident  Ronald Regan invited them to the White House in 1983. And \\naccording to a news item , he compared them to the  founding father s of the \\nUnited St ates. They were  heroes.  \\n \\nCome 1989, the Soviets  leave, and so d o the Americans  - abandon ing \\nAfghanistan . Pakistan was left with 5 million Afghan refugees. We were left \\nwith sectarian militant groups which were never existed befo re. But the wors e \\ncut of it was, that a year later Pakistan was sanctioned  by the US. We felt used.  \\n \\nFast forward 9/11, Pakistan  is needed again by the US, because now the US-led \\ncoalition was invading Afghanistan, and it could not happen  without  Pakistan \\nprovidin g all the logistic al support.  \\n \\nWhat happened after that?  \\n \\nThe same Mujahideen that we had trained, that fighting  foreign occupation was \\na sacred duty, a holy war or jehad , turned ag ainst us.  \\n \\nWe were c alled collaborators.  \\n \\nThey declared jehad on us. Then all along the tribal belt  bordering Afghanistan  - \\nPakistan’s semi -autonomous tribal belt  - where n o Pakistan army had been there \\nsince our independence , people  had strong sympat hies with the Afghan Taliban , \\nnot because of their religious ideology but be cause of Pashtun nationalism, \\nwhich is very strong. Then there are three million Afghan refuge es still in 8 \\n Pakistan all Pashtoons , living in the camps. 500,000 in the biggest ca mp, \\n100,000 ca mps. They all had affinity and sympath y with the Afghan Taliban .  \\n \\nSo, what happened ? They too turn ed against Pakistan. For the f irst time we had \\nmilitant Taliban in Pakistan . And they too attack ed the G overnment  of Pakistan . \\nWhen our A rmy went in to the tribal areas  first time in our history  - whenever an \\narmy goes into the civilian areas , there is collateral damage  - so, there was \\ncollateral damage, which multiplied the militants to seek revenge. But not just \\nthat. The world must know that in Pakist an there were 480 d rone attacks \\nconducted by the US. And we all know that  the drone attacks  are not that \\npreci se. They cause  more collateral damage than the militants they are targeting.  \\n \\nSo, people whose  relatives  had been killed  sought  revenge against Pakistan . \\nBetween 2004 and 2014, there were 50 different militant groups a ttacking the \\nState of Pakistan . \\n \\nAt one point, people , people like us were worried, that will we survive this? \\nThere were bombs go ing all over Pakistan . Our capital was like a fortress.  \\n \\nHad it not been  for one of the most disciplined  army in the world an d one of the \\nbest intelligence agen cies in the world, I think Pakistan would have gone do wn.  \\n \\nSo, when we h ear this at the end . There is a lot of worr y in the US about taking \\ncare of the interpreters and everyone who helped  the US.  \\n \\nWhat about us?   \\n \\nThe only reason we suf fered so m uch was because we became an ally of the US \\n- of the Coalition  - in the war in Afghanistan. There were attacks being \\nconducted from the Afgha n soil into Pak istan. At least there should have been a \\nword of appreciation. But rather than appreciatio n, ima gine how we feel when \\nwe are blame d for the turn of events in Afg hanista n.  \\n \\nAfter 2006 , it became clear to everyone who understood Afghanistan  and its \\nhistory that there would be no military solution in A fghanistan. I went to the \\nUS, I spoke to thinktanks , I met the then Senator Bide n, Senator John Kerry, \\nSenator Harry Reid  – I tried to explain to them that there w ould not be any 9 \\n military sol ution , and political settlement was  the way forward . No one \\nunderstood then .  \\n \\nAnd unfortuna tely, in trying to  force  a military solution is where the US went \\nwron g. And if today , the world needs to kn ow why the Taliban are back in \\npower, all it has to do is to do a deep analys is of why a 300,000 strong well \\nequipped Afghan army – and remember Afg hans are one of th e bravest nations \\non earth - gave up without a fight.  \\n \\nThe moment a deep a nalysis of this is done, the world would  know  why the \\nTaliban came back to p ower and it is not because of P akistan. \\n \\nMr. President,  \\n \\nNow the whole international co mmunity should thi nk what is the way ahead.  \\nThere are two paths that we can take . If we neglect Afg hanistan right now , \\naccording to the UN  half the people of Afghanistan  are already vulnerable , and \\nby next year almost 90% of the people in Afghanistan will go below the pover ty \\nline. There is a huge  humanitarian crisis looming ahead. And this will have \\nserious repercussions  not just for the neigh bours  of Afghanistan  but \\neveryw here. A destabilized , chaotic Afghanistan  will again become a safe haven \\nfor interna tional  terrorists  - the reason why the US came to A fghanistan in the \\nfirst place.  \\n \\nTherefore, there is only one way to go. We must strengthen and stabilize  the \\ncurrent government , for the sake of the people of Af ghanistan .  \\n \\nWhat have t he Taliban promised ?  \\nThey will respe ct human rights .  \\nThey will have an inclusive government.  \\nThey will not allow th eir soil to be used by terrorist . \\nAnd they have given amnesty . \\n \\nIf the world community incentivises  them , and encourages them to walk this \\ntalk, it will be a  win-win situatio n for everyone. Because  these are the four \\nconditions that the US-Taliban dialogue  in Doha was all about .  \\n 10 \\n If the world can incentivise  them to go this direction, then this twent y-year \\npresence of the coalition forces in Afghanistan would  not be wasted after all . \\nBecause the Afghan soil  would not be used by the international terrorists .  \\n \\nI end Mr. President , by urging everyone that this is a critical time  for \\nAfghanistan . \\n \\nYou cannot waste time . Help is needed there. Humanitarian assistan ce has to be  \\ngiven  there  immediately. The Secretary General of the U nited Nations  has taken \\nbold steps . I urge you to mobilize  the international community , and m ove in this \\ndirection .  \\n \\nThank you.\"]"
      ]
     },
     "execution_count": 20,
     "metadata": {},
     "output_type": "execute_result"
    }
   ],
   "source": [
    "texts[:50]"
   ]
  },
  {
   "cell_type": "code",
   "execution_count": 21,
   "id": "95a50dbc",
   "metadata": {},
   "outputs": [
    {
     "name": "stdout",
     "output_type": "stream",
     "text": [
      "Inserted 1 headlines.\n"
     ]
    }
   ],
   "source": [
    "astra_vector_store.add_texts(texts[:50])\n",
    "\n",
    "print(\"Inserted %i headlines.\" % len(texts[:50]))\n",
    "\n",
    "astra_vector_index = VectorStoreIndexWrapper(vectorstore=astra_vector_store)"
   ]
  },
  {
   "cell_type": "code",
   "execution_count": 22,
   "id": "51104b00",
   "metadata": {},
   "outputs": [
    {
     "name": "stdout",
     "output_type": "stream",
     "text": [
      "\n",
      "QUESTION: \"what was imran khan statement ?\"\n",
      "ANSWER: \"Imran Khan's statement was made to the 76th Session of the UN General Assembly on September 24, 2021. Here are the main points from his statement:\n",
      "\n",
      "1. **Global Challenges**: Imran Khan highlighted the triple challenge of the COVID-19 pandemic, economic crisis, and climate change, and emphasized that these threats expose the fragility of the international system and underscore the oneness of humanity.\n",
      "\n",
      "2. **Pakistan's Success in Containing COVID-19**: He mentioned that Pakistan has been successful in containing the COVID-19 pandemic through a calibrated strategy of \"smart lockdowns,\" which helped save lives and livelihoods and kept the economy afloat.\n",
      "\n",
      "3. **Climate Change**: Imran Khan emphasized that climate change is one of the primary existential threats facing the planet and that Pakistan, despite contributing negligibly to global emissions, is among the 10 most vulnerable countries to its effects.\n",
      "\n",
      "4. **Comprehensive Strategy to Address the Triple Crisis**: He proposed a comprehensive strategy to address the triple crisis, which includes vaccine equity, adequate financing for developing countries, and clear investment strategies to alleviate poverty and promote job creation.\n",
      "\n",
      "5. **Illicit Financial Flows**: Imran Khan highlighted the scourge of illicit financial flows from developing countries and called on the international community to take steps to address this issue, including naming and shaming \"haven\" destinations and developing a comprehensive legal framework to halt and reverse illicit financial flows.\n",
      "\n",
      "6. **Islamophobia**: He emphasized that Islamophobia is a pernicious phenomenon that needs to be collectively combated and called on the Secretary-General to convene a global dialogue on countering the rise of Islamophobia.\n",
      "\n",
      "7. **Human Rights Abuses in India**: Imran Khan highlighted the human rights abuses committed by the Indian government in Kashmir, including mob lynching, pogroms, and discriminatory citizenship laws, and called on the international community to take action to stop these abuses.\n",
      "\n",
      "8. **Afghanistan**: He emphasized that Pakistan has been unfairly blamed for the turn of events in Afghanistan and highlighted the country's own sacrifices in the war on terror, including the loss of 80,000 lives and $150 billion in economic losses.\n",
      "\n",
      "9. **Stabilizing Afghanistan**: Imran Khan urged the international community to strengthen and stabilize the current government in Afghanistan and to incentivize the Taliban to respect human rights, have an inclusive government, and not allow their soil to be used by terrorists.\"\n",
      "\n",
      "FIRST DOCUMENTS BY RELEVANCE:\n",
      "    [0.6998] \"1 \n",
      " Statement by the Prime Min ister of Pakistan H.E. Imran Khan to the \n",
      "Seventy -si ...\"\n"
     ]
    }
   ],
   "source": [
    "first_question = True\n",
    "while True:\n",
    "    if first_question:\n",
    "        query_text = input(\"\\nEnter your question (or type 'quit' to exit): \").strip()\n",
    "    else:\n",
    "        query_text = input(\"\\nWhat's your next question (or type 'quit' to exit): \").strip()\n",
    "\n",
    "    if query_text.lower() == \"quit\":\n",
    "        break\n",
    "\n",
    "    if query_text == \"\":\n",
    "        continue\n",
    "\n",
    "    first_question = False\n",
    "\n",
    "    print(\"\\nQUESTION: \\\"%s\\\"\" % query_text)\n",
    "    answer = astra_vector_index.query(query_text, llm=llm).strip()\n",
    "    print(\"ANSWER: \\\"%s\\\"\\n\" % answer)\n",
    "\n",
    "    print(\"FIRST DOCUMENTS BY RELEVANCE:\")\n",
    "    for doc, score in astra_vector_store.similarity_search_with_score(query_text, k=4):\n",
    "        print(\"    [%0.4f] \\\"%s ...\\\"\" % (score, doc.page_content[:84]))"
   ]
  },
  {
   "cell_type": "code",
   "execution_count": null,
   "id": "fbaff40f",
   "metadata": {},
   "outputs": [],
   "source": []
  }
 ],
 "metadata": {
  "kernelspec": {
   "display_name": "astra-env",
   "language": "python",
   "name": "python3"
  },
  "language_info": {
   "codemirror_mode": {
    "name": "ipython",
    "version": 3
   },
   "file_extension": ".py",
   "mimetype": "text/x-python",
   "name": "python",
   "nbconvert_exporter": "python",
   "pygments_lexer": "ipython3",
   "version": "3.11.9"
  }
 },
 "nbformat": 4,
 "nbformat_minor": 5
}
