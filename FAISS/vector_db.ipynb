{
  "nbformat": 4,
  "nbformat_minor": 0,
  "metadata": {
    "colab": {
      "provenance": [],
      "gpuType": "T4"
    },
    "kernelspec": {
      "name": "python3",
      "display_name": "Python 3"
    },
    "language_info": {
      "name": "python"
    },
    "accelerator": "GPU"
  },
  "cells": [
    {
      "cell_type": "code",
      "execution_count": 9,
      "metadata": {
        "id": "lJdHlAGguDoJ"
      },
      "outputs": [],
      "source": [
        "from pathlib import Path\n",
        "from langchain.document_loaders import TextLoader\n",
        "from langchain.text_splitter import RecursiveCharacterTextSplitter\n",
        "from langchain.embeddings import HuggingFaceEmbeddings\n",
        "from langchain.vectorstores import FAISS"
      ]
    },
    {
      "cell_type": "code",
      "source": [
        "data_folder = Path(\"/content/DATA\")\n",
        "documents = []\n",
        "for file_path in data_folder.glob(\"*.txt\"):\n",
        "    loader = TextLoader(str(file_path), encoding='utf-8')\n",
        "    docs = loader.load()\n",
        "    for doc in docs:\n",
        "        doc.metadata[\"source\"] = file_path.name\n",
        "    documents.extend(docs)"
      ],
      "metadata": {
        "id": "RzrnuX2qukah"
      },
      "execution_count": 10,
      "outputs": []
    },
    {
      "cell_type": "code",
      "source": [
        "splitter = RecursiveCharacterTextSplitter(chunk_size=1000, chunk_overlap=100)\n",
        "chunks = splitter.split_documents(documents)"
      ],
      "metadata": {
        "id": "M2konY0suug3"
      },
      "execution_count": 11,
      "outputs": []
    },
    {
      "cell_type": "code",
      "source": [
        "embeddings = HuggingFaceEmbeddings(model_name=\"BAAI/bge-large-en-v1.5\")\n",
        "db = FAISS.from_documents(chunks, embeddings)\n",
        "db.save_local(\"vectorstore/legal_db\")"
      ],
      "metadata": {
        "id": "HLBBopM0uv8x"
      },
      "execution_count": 12,
      "outputs": []
    },
    {
      "cell_type": "code",
      "source": [
        "# prompt: load the db from files and do a similartity search\n",
        "\n",
        "loaded_db = FAISS.load_local(\"vectorstore/legal_db\", embeddings,allow_dangerous_deserialization=True)\n",
        "\n",
        "query = \"What is the definition of 'personal data'?\"\n",
        "docs = loaded_db.similarity_search(query)\n",
        "\n",
        "for doc in docs:\n",
        "    print(f\"Source: {doc.metadata['source']}\")\n",
        "    print(f\"Content: {doc.page_content}\")\n",
        "    print(\"-\" * 50)"
      ],
      "metadata": {
        "colab": {
          "base_uri": "https://localhost:8080/"
        },
        "id": "WEE5LyRBuu5n",
        "outputId": "25896e38-fc3a-47fd-d152-6f833fc8e297"
      },
      "execution_count": 14,
      "outputs": [
        {
          "output_type": "stream",
          "name": "stdout",
          "text": [
            "Source: criminal_procedure_code.txt\n",
            "Content: Of Cheating\n",
            "415.\tCheating:\n",
            "Whoever, by deceiving any person, fraudulently or dishonestly induces the person so deceived to deliver any property to any person, or to consent that any person shall retain any property, or intentionally induces the person so deceived to do or omit to do anything which he would not do or omit if he were not so deceived, and which act or omission causes or is likely to cause damage or harm to that person  165[or any other person] 165 in body, mind, reputation or property, is said to \"cheat\".\n",
            "Explanation: A dishonest concealment of facts is a deception within the meaning of this section.\n",
            "--------------------------------------------------\n",
            "Source: civil_procedure_code.txt\n",
            "Content: matters of fact from which the same may be implied, and not as a denial of the legality or\n",
            "sufficiency in law of such contract.\n",
            "9. Wherever the contents of any document are material, it shall be sufficient in any\n",
            "pleading to state the effect thereof as briefly as possible, without setting out the whole or\n",
            "any part thereof, unless the precise words of the document or any part thereof are\n",
            "material.\n",
            "10. Wherever it is material to allege, malice fraudulent intention, knowledge or other\n",
            "condition of the mind of any person, it shall be sufficient to allege the same as a fact\n",
            "without setting out the circumstances from which the same is to be inferred.\n",
            "11. Wherever it is material to allege notice to any person of any fact, matter or thing, it\n",
            "shall be sufficient to allege such notice as a fact, unless the form or the precise terms of\n",
            "such notice, or the circumstances from which such notice is to be inferred, are material.\n",
            "--------------------------------------------------\n",
            "Source: criminal_procedure_code.txt\n",
            "Content: 11.\t\"Person\".\n",
            "The word \"person\" includes any Company or Association, or body of persons, whether incorporated or not.\n",
            " \n",
            "12.\t\"Public\".\n",
            "The word \"public\" includes any class of the public or any community.\n",
            " \n",
            " 8[] 8\n",
            "14.\t\"Servant of the State\".\n",
            "The words \"servant of the State\" denote all officers or servants continued, appointed or employed in Pakistan, by or under the authority of the Federal Government or any Provincial Government.\n",
            " \n",
            " 9[] 9\n",
            "17.\t\"Government\"\n",
            "The word \"Government\" denotes the person or persons authorized by law to administer executive Government in Pakistan, or in any part thereof.\n",
            " \n",
            " 10[] 10\n",
            "19.\t\"Judge\".\n",
            "The word \"Judge\" denotes not only every person who is officially designated as a Judge, but also every person--\n",
            "who is empowered by law to give, in any legal proceeding, civil or criminal, a definitive judgment or a judgment which, if not appealed against, would be definitive, or a judgment which, if confirmed by some other authority, would be definitive, or\n",
            "--------------------------------------------------\n",
            "Source: constitution.txt\n",
            "Content: That I will not allow my personal interest to influence my official conduct or my official decisions :\n",
            "That I will preserve, protect and defend the Constitution of the Islamic Republic of Pakistan:\n",
            "That, in all circumstances, I will do right to all manner of people, according to law, without fear or favour, affection or ill-will :\n",
            "And that I will not directly or indirectly communicate or reveal to any person any matter which shall be brought under my consideration or shall become known to me as President of Pakistan, except as may be required for the due discharge of my duties as President.\n",
            "1[May Allah Almighty help and guide me (A’meen).]\n",
            "--------------------------------------------------\n"
          ]
        }
      ]
    },
    {
      "cell_type": "code",
      "source": [],
      "metadata": {
        "id": "Wh2RLvqzwTTq"
      },
      "execution_count": null,
      "outputs": []
    }
  ]
}