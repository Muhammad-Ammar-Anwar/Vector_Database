{
 "cells": [
  {
   "cell_type": "code",
   "execution_count": 1,
   "id": "b62a495f",
   "metadata": {},
   "outputs": [
    {
     "data": {
      "text/plain": [
       "<function dotenv.main.load_dotenv(dotenv_path: Union[str, ForwardRef('os.PathLike[str]'), NoneType] = None, stream: Optional[IO[str]] = None, verbose: bool = False, override: bool = False, interpolate: bool = True, encoding: Optional[str] = 'utf-8') -> bool>"
      ]
     },
     "execution_count": 1,
     "metadata": {},
     "output_type": "execute_result"
    }
   ],
   "source": [
    "import os \n",
    "from dotenv import load_dotenv\n",
    "load_dotenv"
   ]
  },
  {
   "cell_type": "code",
   "execution_count": 14,
   "id": "a7749944",
   "metadata": {},
   "outputs": [],
   "source": [
    "pinecone_db=os.getenv('pinecone_db')\n",
    "HF_TOKEN=os.getenv('HF_TOKEN')"
   ]
  },
  {
   "cell_type": "markdown",
   "id": "13c4906e",
   "metadata": {},
   "source": [
    "## Creating DB"
   ]
  },
  {
   "cell_type": "code",
   "execution_count": 6,
   "id": "d9aa4491",
   "metadata": {},
   "outputs": [],
   "source": [
    "from langchain_community.retrievers import PineconeHybridSearchRetriever\n",
    "from pinecone import Pinecone,ServerlessSpec\n",
    "\n",
    "index_name='hybrid-search-langchain-pinecone'\n",
    "pc=Pinecone(api_key=pinecone_db)\n",
    "\n",
    "if index_name not in pc.list_indexes().names():\n",
    "    pc.create_index(\n",
    "        name=index_name,\n",
    "        dimension=384,\n",
    "        metric='dotproduct',\n",
    "        spec=ServerlessSpec(cloud='aws',region=\"us-east-1\"),\n",
    "    )\n"
   ]
  },
  {
   "cell_type": "code",
   "execution_count": 7,
   "id": "177bd28d",
   "metadata": {},
   "outputs": [
    {
     "name": "stderr",
     "output_type": "stream",
     "text": [
      "c:\\Users\\PC\\Documents\\Projects\\Agentic AI\\Hybrid Search\\hybrid\\Lib\\site-packages\\tqdm\\auto.py:21: TqdmWarning: IProgress not found. Please update jupyter and ipywidgets. See https://ipywidgets.readthedocs.io/en/stable/user_install.html\n",
      "  from .autonotebook import tqdm as notebook_tqdm\n"
     ]
    },
    {
     "data": {
      "text/plain": [
       "<pinecone.db_data.index.Index at 0x1a3bdf69810>"
      ]
     },
     "execution_count": 7,
     "metadata": {},
     "output_type": "execute_result"
    }
   ],
   "source": [
    "index=pc.Index(index_name)\n",
    "index"
   ]
  },
  {
   "cell_type": "code",
   "execution_count": 15,
   "id": "00bd39f2",
   "metadata": {},
   "outputs": [
    {
     "data": {
      "text/plain": [
       "HuggingFaceEmbeddings(model_name='all-MiniLM-L6-v2', cache_folder=None, model_kwargs={}, encode_kwargs={}, query_encode_kwargs={}, multi_process=False, show_progress=False)"
      ]
     },
     "execution_count": 15,
     "metadata": {},
     "output_type": "execute_result"
    }
   ],
   "source": [
    "from langchain_huggingface import HuggingFaceEmbeddings\n",
    "embeddings=HuggingFaceEmbeddings(model='all-MiniLM-L6-v2')\n",
    "embeddings"
   ]
  },
  {
   "cell_type": "code",
   "execution_count": 16,
   "id": "35641b5f",
   "metadata": {},
   "outputs": [
    {
     "name": "stderr",
     "output_type": "stream",
     "text": [
      "[nltk_data] Downloading package stopwords to\n",
      "[nltk_data]     C:\\Users\\PC\\AppData\\Roaming\\nltk_data...\n",
      "[nltk_data]   Unzipping corpora\\stopwords.zip.\n"
     ]
    },
    {
     "data": {
      "text/plain": [
       "<pinecone_text.sparse.bm25_encoder.BM25Encoder at 0x1a38d726a90>"
      ]
     },
     "execution_count": 16,
     "metadata": {},
     "output_type": "execute_result"
    }
   ],
   "source": [
    "from pinecone_text.sparse import BM25Encoder\n",
    "\n",
    "bm25_encoder=BM25Encoder().default()\n",
    "bm25_encoder"
   ]
  },
  {
   "cell_type": "code",
   "execution_count": 17,
   "id": "bc574de6",
   "metadata": {},
   "outputs": [],
   "source": [
    "sentences=[\n",
    "    \"The sun was shining brightly over the quiet village.\",\n",
    "    \"She quickly finished her homework before dinner.\",\n",
    "    \"They decided to take a long walk along the river.\"\n",
    "]"
   ]
  },
  {
   "cell_type": "code",
   "execution_count": null,
   "id": "78f163d2",
   "metadata": {},
   "outputs": [
    {
     "name": "stderr",
     "output_type": "stream",
     "text": [
      "100%|██████████| 3/3 [00:00<00:00, 73.54it/s]\n"
     ]
    }
   ],
   "source": [
    "# TFIDF\n",
    "bm25_encoder.fit(sentences)\n",
    "bm25_encoder.dump(\"bm25_values.json\")\n",
    "bm25_encoder=BM25Encoder().load(\"bm25_values.json\")\n"
   ]
  },
  {
   "cell_type": "code",
   "execution_count": 21,
   "id": "712e883e",
   "metadata": {},
   "outputs": [
    {
     "data": {
      "text/plain": [
       "PineconeHybridSearchRetriever(embeddings=HuggingFaceEmbeddings(model_name='all-MiniLM-L6-v2', cache_folder=None, model_kwargs={}, encode_kwargs={}, query_encode_kwargs={}, multi_process=False, show_progress=False), sparse_encoder=<pinecone_text.sparse.bm25_encoder.BM25Encoder object at 0x000001A38DBF5590>, index=<pinecone.db_data.index.Index object at 0x000001A3BDF69810>)"
      ]
     },
     "execution_count": 21,
     "metadata": {},
     "output_type": "execute_result"
    }
   ],
   "source": [
    "retriever=PineconeHybridSearchRetriever(embeddings=embeddings,sparse_encoder=bm25_encoder,index=index)\n",
    "retriever"
   ]
  },
  {
   "cell_type": "code",
   "execution_count": 23,
   "id": "4c43412a",
   "metadata": {},
   "outputs": [
    {
     "name": "stderr",
     "output_type": "stream",
     "text": [
      "100%|██████████| 1/1 [00:02<00:00,  2.18s/it]\n"
     ]
    }
   ],
   "source": [
    "retriever.add_texts([\"The sun was shining brightly over the quiet village.\",\n",
    "    \"She quickly finished her homework before dinner.\",\n",
    "    \"They decided to take a long walk along the river.\"])"
   ]
  },
  {
   "cell_type": "code",
   "execution_count": 30,
   "id": "284cb14c",
   "metadata": {},
   "outputs": [
    {
     "data": {
      "text/plain": [
       "[Document(metadata={'score': 0.517222524}, page_content='They decided to take a long walk along the river.'),\n",
       " Document(metadata={'score': 0.0809991583}, page_content='The sun was shining brightly over the quiet village.'),\n",
       " Document(metadata={'score': 0.0613835752}, page_content='She quickly finished her homework before dinner.')]"
      ]
     },
     "execution_count": 30,
     "metadata": {},
     "output_type": "execute_result"
    }
   ],
   "source": [
    "retriever.invoke(\"who decided to take a walk\")"
   ]
  },
  {
   "cell_type": "code",
   "execution_count": null,
   "id": "548c5d14",
   "metadata": {},
   "outputs": [],
   "source": []
  }
 ],
 "metadata": {
  "kernelspec": {
   "display_name": "hybrid",
   "language": "python",
   "name": "python3"
  },
  "language_info": {
   "codemirror_mode": {
    "name": "ipython",
    "version": 3
   },
   "file_extension": ".py",
   "mimetype": "text/x-python",
   "name": "python",
   "nbconvert_exporter": "python",
   "pygments_lexer": "ipython3",
   "version": "3.11.9"
  }
 },
 "nbformat": 4,
 "nbformat_minor": 5
}
